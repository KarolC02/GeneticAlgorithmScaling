{
 "cells": [
  {
   "cell_type": "code",
   "execution_count": 105,
   "id": "7b231009-9fbf-4039-8b21-da3f20f5d19f",
   "metadata": {},
   "outputs": [],
   "source": [
    "import numpy as np"
   ]
  },
  {
   "cell_type": "code",
   "execution_count": 106,
   "id": "0c288f96",
   "metadata": {},
   "outputs": [],
   "source": [
    "# Wybramo funckje: Sphere i Matyas\n",
    "\n",
    "def Sphere(X):\n",
    "    return np.sum(X*X, axis = 1).reshape(-1,1)\n",
    "\n",
    "def Matyas(X):\n",
    "   return (0.26 * (Sphere(X)) - (0.48 * X[:, 0] * X[:, 1]).reshape(-1,1)).reshape(-1,1)"
   ]
  },
  {
   "cell_type": "markdown",
   "id": "ebfdc746",
   "metadata": {},
   "source": [
    "Matyas zostal zmieniony, sprawdzic czy jest g, 0,48 zmienione, oblukac w sprawku"
   ]
  },
  {
   "cell_type": "code",
   "execution_count": 107,
   "id": "4eeb2974",
   "metadata": {},
   "outputs": [],
   "source": [
    "def eval(X, function = \"sphere\",epsilon = 0.001):\n",
    "    if(function == \"sphere\"):\n",
    "        return 1/(Sphere(X)+epsilon).reshape(-1,1)\n",
    "    elif(function == \"matyas\"):\n",
    "        return 1/(Matyas(X)+epsilon).reshape(-1,1)"
   ]
  },
  {
   "cell_type": "code",
   "execution_count": 108,
   "id": "4187267d-3193-4fc7-9fe4-5983ddc3fcd7",
   "metadata": {},
   "outputs": [],
   "source": [
    "N = 100\n",
    "\n",
    "# Tworzenie populacji początkowej i wyliczanie jej przystosowania \n",
    "X_sphere = np.random.uniform(low = -5.12, high = 5.12, size = (100,2))\n",
    "Y_sphere = eval(X_sphere)\n",
    "X_matyas = np.random.uniform(low = -10, high = 10, size = (100,2))\n",
    "Y_matyas = eval(X_matyas, \"matyas\")"
   ]
  },
  {
   "cell_type": "code",
   "execution_count": 109,
   "id": "28030a82-9f33-4c01-8712-2c1fed7048d9",
   "metadata": {},
   "outputs": [],
   "source": [
    "# Wybrano skalowanie liniowe i potęgowe\n",
    "def linear_scaling(X, C = 4, function = \"sphere\"):\n",
    "    eval_X = eval(X,function)\n",
    "    eval_min = np.min(eval_X)\n",
    "    eval_max = np.max(eval_X)\n",
    "    F_mean = np.sum(eval_X) / eval_X.shape[0]\n",
    "    treshold = ( C * F_mean - eval_max ) / ( C - 1.0 )\n",
    "\n",
    "    if( eval_min > treshold ):\n",
    "        a = ( ((C-1.0) * F_mean ) / ( eval_max - F_mean) )\n",
    "        b = F_mean * (eval_max - C * F_mean) / (eval_max - F_mean)\n",
    "    else:\n",
    "        a = F_mean / (F_mean - eval_min)\n",
    "        b = -eval_min * (F_mean) / (F_mean - eval_min)\n",
    "    \n",
    "    return a * eval_X + b\n",
    "\n",
    "def exponential_scaling(X,t, T, function = \"sphere\", p1 = 0.05, p2 = 0.1, a = 0.1, s_star = 0.1):\n",
    "    eval_X = eval(X, function)\n",
    "    s0 = np.max(eval_X) - np.min(eval_X) # według wskazań prowadzącego\n",
    "    k1 = (s_star/s0) ** p1\n",
    "    k2 = np.tan(t/(T+1) * np.pi / 2)\n",
    "    k = k1 * k2 ** (p2*((s0/s_star)**a))\n",
    "    return np.power(eval_X,k)"
   ]
  },
  {
   "cell_type": "code",
   "execution_count": 110,
   "id": "9dec7b8e-a0dd-4b60-851f-e1b0fe534b1a",
   "metadata": {},
   "outputs": [],
   "source": [
    "Y_sphere_linear = linear_scaling(X_sphere, function = \"sphere\")\n",
    "Y_sphere_exponential = exponential_scaling(X_sphere, 1, 100, function = \"sphere\") # Zakładamy 100 pokoleń\n",
    "\n",
    "Y_matyas_linear = linear_scaling(X_matyas, function = \"matyas\")\n",
    "Y_matyas_exponential = exponential_scaling(X_matyas, 1, 100, function = \"matyas\") # Zakładamy 100 pokoleń\n",
    "\n",
    "# 2 bez skalowania\n",
    "# 2 ze skalowaniem liniowym\n",
    "# 2 ze skalowaniem potęgowym"
   ]
  },
  {
   "cell_type": "code",
   "execution_count": 111,
   "id": "1952da83-4540-4508-8264-079d5fcc468c",
   "metadata": {},
   "outputs": [],
   "source": [
    "def deterministic_choice(X, eval_X):\n",
    "    N = eval_X.shape[0]\n",
    "    F_sum = np.sum(eval_X)\n",
    "\n",
    "    P = (eval_X / F_sum)\n",
    "    E = P * N\n",
    "    E_floor = np.floor(E)\n",
    "    R = E - E_floor\n",
    "    \n",
    "    E_floor_sum = int(np.sum(E_floor))\n",
    "    print(E_floor_sum)\n",
    "    free_slots = N - E_floor_sum\n",
    "\n",
    "    X_new_list = []\n",
    "    c = 0\n",
    "    for i in range(N):\n",
    "        for j in range(int(E_floor[i])):\n",
    "            X_new_list.append(X[i])\n",
    "\n",
    "    dt = np.concatenate((X,R), axis = 1)\n",
    "    sorted_dt = dt[dt[:, 2].argsort()[::-1]]\n",
    "\n",
    "    for i in range(free_slots):\n",
    "        X_new_list.append(sorted_dt[i, :X.shape[1]])\n",
    "        \n",
    "    X_new = np.array(X_new_list)\n",
    "    return X_new"
   ]
  },
  {
   "cell_type": "code",
   "execution_count": 112,
   "id": "e55ded1d",
   "metadata": {},
   "outputs": [
    {
     "name": "stdout",
     "output_type": "stream",
     "text": [
      "20\n",
      "37\n",
      "57\n",
      "20\n",
      "50\n",
      "74\n"
     ]
    },
    {
     "name": "stderr",
     "output_type": "stream",
     "text": [
      "/var/folders/xj/dt4pc8px04vc_s_6x99rfymw0000gn/T/ipykernel_34954/1016151733.py:17: DeprecationWarning: Conversion of an array with ndim > 0 to a scalar is deprecated, and will error in future. Ensure you extract a single element from your array before performing this operation. (Deprecated NumPy 1.25.)\n",
      "  for j in range(int(E_floor[i])):\n"
     ]
    }
   ],
   "source": [
    "X_sphere_linear_new = deterministic_choice(X_sphere, Y_sphere_linear)\n",
    "X_sphere_exponential_new = deterministic_choice(X_sphere, Y_sphere_exponential)\n",
    "X_sphere_new = deterministic_choice(X_sphere, Y_sphere)\n",
    "\n",
    "X_matyas_linear_new = deterministic_choice(X_matyas, Y_matyas_linear)\n",
    "X_matyas_exponential_new = deterministic_choice(X_matyas, Y_matyas_exponential)\n",
    "X_matyas_new = deterministic_choice(X_matyas, Y_matyas)"
   ]
  },
  {
   "cell_type": "code",
   "execution_count": 113,
   "id": "03a1ab93",
   "metadata": {},
   "outputs": [],
   "source": [
    "def check_subset(X, X_new, name=\"\"):\n",
    "    X_set = set(map(tuple, X))\n",
    "    X_new_set = set(map(tuple, X_new))\n",
    "    if not X_new_set.issubset(X_set):\n",
    "        raise ValueError(f\"Some elements in {name} are not in original {name.split('_')[0]}!\")\n",
    "\n",
    "check_subset(X_sphere, X_sphere_linear_new, \"X_sphere_linear_new\")\n",
    "check_subset(X_sphere, X_sphere_exponential_new, \"X_sphere_exponential_new\")\n",
    "check_subset(X_sphere, X_sphere_new, \"X_sphere_new\")\n",
    "\n",
    "check_subset(X_matyas, X_matyas_linear_new, \"X_matyas_linear_new\")\n",
    "check_subset(X_matyas, X_matyas_exponential_new, \"X_matyas_exponential_new\")\n",
    "check_subset(X_matyas, X_matyas_new, \"X_matyas_new\")"
   ]
  },
  {
   "cell_type": "code",
   "execution_count": 114,
   "id": "dff1a990",
   "metadata": {},
   "outputs": [
    {
     "name": "stdout",
     "output_type": "stream",
     "text": [
      "1886.0795473279225\n",
      "595.8660128131843\n"
     ]
    }
   ],
   "source": [
    "print(Sphere(X_sphere).sum())\n",
    "print(Sphere(X_sphere_new).sum())"
   ]
  },
  {
   "cell_type": "code",
   "execution_count": 115,
   "id": "6ec3b473",
   "metadata": {},
   "outputs": [
    {
     "name": "stdout",
     "output_type": "stream",
     "text": [
      "1886.0795473279225\n",
      "1371.8427978694917\n"
     ]
    }
   ],
   "source": [
    "print(Sphere(X_sphere).sum())\n",
    "print(Sphere(X_sphere_exponential_new).sum())"
   ]
  },
  {
   "cell_type": "code",
   "execution_count": 116,
   "id": "cc77d958",
   "metadata": {},
   "outputs": [
    {
     "name": "stdout",
     "output_type": "stream",
     "text": [
      "1886.0795473279225\n",
      "1706.0485413951876\n"
     ]
    }
   ],
   "source": [
    "print(Sphere(X_sphere).sum())\n",
    "print(Sphere(X_sphere_linear_new).sum())"
   ]
  },
  {
   "cell_type": "code",
   "execution_count": 117,
   "id": "a32c898b",
   "metadata": {},
   "outputs": [
    {
     "name": "stdout",
     "output_type": "stream",
     "text": [
      "1624.141423220708\n",
      "91.8226089769807\n"
     ]
    }
   ],
   "source": [
    "print(Matyas(X_matyas).sum())\n",
    "print(Matyas(X_matyas_new).sum())"
   ]
  },
  {
   "cell_type": "code",
   "execution_count": 118,
   "id": "bb5e791a",
   "metadata": {},
   "outputs": [
    {
     "name": "stdout",
     "output_type": "stream",
     "text": [
      "1624.141423220708\n",
      "613.4543443776147\n"
     ]
    }
   ],
   "source": [
    "print(Matyas(X_matyas).sum())\n",
    "print(Matyas(X_matyas_exponential_new).sum())"
   ]
  },
  {
   "cell_type": "code",
   "execution_count": 119,
   "id": "c7940bad",
   "metadata": {},
   "outputs": [
    {
     "name": "stdout",
     "output_type": "stream",
     "text": [
      "7122.883772015767\n",
      "6483.015958360352\n"
     ]
    }
   ],
   "source": [
    "print(Sphere(X_matyas).sum())\n",
    "print(Sphere(X_matyas_linear_new).sum())"
   ]
  },
  {
   "cell_type": "code",
   "execution_count": null,
   "id": "44a5746f",
   "metadata": {},
   "outputs": [],
   "source": []
  }
 ],
 "metadata": {
  "kernelspec": {
   "display_name": "myenv3.9",
   "language": "python",
   "name": "python3"
  },
  "language_info": {
   "codemirror_mode": {
    "name": "ipython",
    "version": 3
   },
   "file_extension": ".py",
   "mimetype": "text/x-python",
   "name": "python",
   "nbconvert_exporter": "python",
   "pygments_lexer": "ipython3",
   "version": "3.9.21"
  }
 },
 "nbformat": 4,
 "nbformat_minor": 5
}
